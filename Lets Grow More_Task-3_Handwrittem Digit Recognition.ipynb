{
  "nbformat": 4,
  "nbformat_minor": 0,
  "metadata": {
    "colab": {
      "provenance": []
    },
    "kernelspec": {
      "name": "python3",
      "display_name": "Python 3"
    },
    "language_info": {
      "name": "python"
    }
  },
  "cells": [
    {
      "cell_type": "code",
      "execution_count": 1,
      "metadata": {
        "id": "h19stAZFPzy3"
      },
      "outputs": [],
      "source": [
        "import tensorflow as tf\n",
        "from tensorflow import keras\n",
        "import matplotlib.pyplot as plt\n",
        "%matplotlib inline\n",
        "import numpy as np"
      ]
    },
    {
      "cell_type": "code",
      "source": [
        "(x_train,y_train),(x_test,y_test)=keras.datasets.mnist.load_data()"
      ],
      "metadata": {
        "colab": {
          "base_uri": "https://localhost:8080/"
        },
        "id": "p1Uv8zvhQBYF",
        "outputId": "f886f154-c5a2-4d35-c12a-e625bc768ba0"
      },
      "execution_count": 2,
      "outputs": [
        {
          "output_type": "stream",
          "name": "stdout",
          "text": [
            "Downloading data from https://storage.googleapis.com/tensorflow/tf-keras-datasets/mnist.npz\n",
            "11490434/11490434 [==============================] - 0s 0us/step\n"
          ]
        }
      ]
    },
    {
      "cell_type": "code",
      "source": [
        "print('xtrain shape: ',x_train.shape)"
      ],
      "metadata": {
        "colab": {
          "base_uri": "https://localhost:8080/"
        },
        "id": "WjfN8dVpiXDy",
        "outputId": "0ba1ba18-3d8f-4c87-b4c9-9feb62d69001"
      },
      "execution_count": 3,
      "outputs": [
        {
          "output_type": "stream",
          "name": "stdout",
          "text": [
            "xtrain shape:  (60000, 28, 28)\n"
          ]
        }
      ]
    },
    {
      "cell_type": "code",
      "source": [
        "print('xtest shape: ',x_test.shape)"
      ],
      "metadata": {
        "colab": {
          "base_uri": "https://localhost:8080/"
        },
        "id": "PmyWPtuvkENL",
        "outputId": "b500c1e0-ae0a-4f41-e79b-add814d49b86"
      },
      "execution_count": 4,
      "outputs": [
        {
          "output_type": "stream",
          "name": "stdout",
          "text": [
            "xtest shape:  (10000, 28, 28)\n"
          ]
        }
      ]
    },
    {
      "cell_type": "markdown",
      "source": [
        "#Data Pre-processing"
      ],
      "metadata": {
        "id": "V2HI5SP0KHJN"
      }
    },
    {
      "cell_type": "markdown",
      "source": [
        "changing the shape of x_train and x_test, i.e. flattening it from a two dimensional to a single dimensional array.\n",
        "\n",
        "784=28*28"
      ],
      "metadata": {
        "id": "hcQ9CCpzrx54"
      }
    },
    {
      "cell_type": "code",
      "source": [
        "x_train=x_train.reshape(60000,784)\n",
        "x_test=x_test.reshape(10000,784)"
      ],
      "metadata": {
        "id": "qPEIVYKvKL-_"
      },
      "execution_count": 5,
      "outputs": []
    },
    {
      "cell_type": "code",
      "source": [
        "x_train= x_train/255                          #Normalizing the input\n",
        "x_test= x_test/255\n",
        "print(x_train.shape[0],'train samples')\n",
        "print(x_test.shape[0],'test samples')"
      ],
      "metadata": {
        "colab": {
          "base_uri": "https://localhost:8080/"
        },
        "id": "_TEWnCrbsHuz",
        "outputId": "08c9ce3e-4c3d-46c7-de4e-f214319f6011"
      },
      "execution_count": 6,
      "outputs": [
        {
          "output_type": "stream",
          "name": "stdout",
          "text": [
            "60000 train samples\n",
            "10000 test samples\n"
          ]
        }
      ]
    },
    {
      "cell_type": "markdown",
      "source": [
        "#Model"
      ],
      "metadata": {
        "id": "GhdjZ3j_s3E-"
      }
    },
    {
      "cell_type": "code",
      "source": [
        "model=keras.Sequential([keras.layers.Dense(10,input_shape=(784,),activation='sigmoid')])\n",
        "model.compile(optimizer='adam',loss='sparse_categorical_crossentropy', metrics=['accuracy'])\n",
        "model.fit(x_train,y_train,epochs=5)\n"
      ],
      "metadata": {
        "colab": {
          "base_uri": "https://localhost:8080/"
        },
        "id": "pZBTJOses8Yf",
        "outputId": "672a0b08-646c-4535-af39-cbda49300584"
      },
      "execution_count": 8,
      "outputs": [
        {
          "output_type": "stream",
          "name": "stdout",
          "text": [
            "Epoch 1/5\n",
            "1875/1875 [==============================] - 4s 2ms/step - loss: 0.4704 - accuracy: 0.8769\n",
            "Epoch 2/5\n",
            "1875/1875 [==============================] - 4s 2ms/step - loss: 0.3038 - accuracy: 0.9151\n",
            "Epoch 3/5\n",
            "1875/1875 [==============================] - 3s 2ms/step - loss: 0.2833 - accuracy: 0.9208\n",
            "Epoch 4/5\n",
            "1875/1875 [==============================] - 4s 2ms/step - loss: 0.2733 - accuracy: 0.9237\n",
            "Epoch 5/5\n",
            "1875/1875 [==============================] - 4s 2ms/step - loss: 0.2661 - accuracy: 0.9260\n"
          ]
        },
        {
          "output_type": "execute_result",
          "data": {
            "text/plain": [
              "<keras.callbacks.History at 0x78e91b6bf370>"
            ]
          },
          "metadata": {},
          "execution_count": 8
        }
      ]
    },
    {
      "cell_type": "code",
      "source": [
        "model.evaluate(x_test,y_test)"
      ],
      "metadata": {
        "colab": {
          "base_uri": "https://localhost:8080/"
        },
        "id": "c1cHlGwrtsd8",
        "outputId": "31b70819-adec-492f-a22f-d33e236b1410"
      },
      "execution_count": 9,
      "outputs": [
        {
          "output_type": "stream",
          "name": "stdout",
          "text": [
            "313/313 [==============================] - 1s 1ms/step - loss: 0.2681 - accuracy: 0.9247\n"
          ]
        },
        {
          "output_type": "execute_result",
          "data": {
            "text/plain": [
              "[0.26805201172828674, 0.9247000217437744]"
            ]
          },
          "metadata": {},
          "execution_count": 9
        }
      ]
    },
    {
      "cell_type": "code",
      "source": [
        "model.predict(x_test)"
      ],
      "metadata": {
        "colab": {
          "base_uri": "https://localhost:8080/"
        },
        "id": "6z__cK6Yt1Js",
        "outputId": "a7d8c9aa-d397-4542-de56-028195c3b4aa"
      },
      "execution_count": 10,
      "outputs": [
        {
          "output_type": "stream",
          "name": "stdout",
          "text": [
            "313/313 [==============================] - 0s 1ms/step\n"
          ]
        },
        {
          "output_type": "execute_result",
          "data": {
            "text/plain": [
              "array([[1.7323377e-02, 3.2696744e-07, 7.9273894e-02, ..., 9.9989420e-01,\n",
              "        9.8465383e-02, 7.1071893e-01],\n",
              "       [2.1304649e-01, 2.7177162e-03, 9.9974883e-01, ..., 8.0058968e-13,\n",
              "        1.3913457e-01, 1.2147026e-09],\n",
              "       [2.7810730e-04, 9.9218702e-01, 7.1576506e-01, ..., 1.2221179e-01,\n",
              "        3.5906270e-01, 5.7981446e-02],\n",
              "       ...,\n",
              "       [2.3003486e-06, 1.7079317e-06, 2.1557875e-03, ..., 2.7243218e-01,\n",
              "        4.4228512e-01, 8.1930822e-01],\n",
              "       [5.3245007e-05, 8.5363194e-05, 2.2446518e-04, ..., 3.8103251e-05,\n",
              "        6.0055184e-01, 1.6962639e-04],\n",
              "       [2.8922434e-03, 1.4389878e-10, 2.3158437e-01, ..., 1.8233498e-08,\n",
              "        1.3209916e-04, 1.0755497e-06]], dtype=float32)"
            ]
          },
          "metadata": {},
          "execution_count": 10
        }
      ]
    },
    {
      "cell_type": "code",
      "source": [
        "y_predicted=model.predict(x_test)"
      ],
      "metadata": {
        "colab": {
          "base_uri": "https://localhost:8080/"
        },
        "id": "sklnnXdFwoZH",
        "outputId": "cb284b49-7d38-46be-e9db-1387ce88d60f"
      },
      "execution_count": 16,
      "outputs": [
        {
          "output_type": "stream",
          "name": "stdout",
          "text": [
            "313/313 [==============================] - 1s 2ms/step\n"
          ]
        }
      ]
    },
    {
      "cell_type": "code",
      "source": [
        "y_predicted_labels=[np.argmax(i) for i in y_predicted]\n",
        "y_predicted_labels[:5]"
      ],
      "metadata": {
        "colab": {
          "base_uri": "https://localhost:8080/"
        },
        "id": "HbC7lcESwa8G",
        "outputId": "05a125d8-5d09-4f35-eeca-f160d69cefb5"
      },
      "execution_count": 17,
      "outputs": [
        {
          "output_type": "execute_result",
          "data": {
            "text/plain": [
              "[7, 2, 1, 0, 4]"
            ]
          },
          "metadata": {},
          "execution_count": 17
        }
      ]
    },
    {
      "cell_type": "code",
      "source": [
        "confusion=tf.math.confusion_matrix(labels=y_test, predictions=y_predicted_labels)\n",
        "confusion"
      ],
      "metadata": {
        "colab": {
          "base_uri": "https://localhost:8080/"
        },
        "id": "75PqwWnTwI2p",
        "outputId": "4a5afd7e-0b70-4e17-a287-b882413f0d73"
      },
      "execution_count": 19,
      "outputs": [
        {
          "output_type": "execute_result",
          "data": {
            "text/plain": [
              "<tf.Tensor: shape=(10, 10), dtype=int32, numpy=\n",
              "array([[ 950,    0,    4,    2,    0,    8,    8,    5,    2,    1],\n",
              "       [   0, 1108,    5,    2,    0,    2,    4,    2,   12,    0],\n",
              "       [   3,    4,  951,   11,    7,    5,   11,   11,   24,    5],\n",
              "       [   1,    0,   25,  927,    0,   20,    2,   12,   14,    9],\n",
              "       [   1,    1,    8,    1,  905,    0,   10,    4,    6,   46],\n",
              "       [   7,    2,    7,   37,    9,  781,   12,    6,   23,    8],\n",
              "       [   7,    3,    9,    1,    7,   18,  910,    2,    1,    0],\n",
              "       [   1,    5,   25,    5,    6,    0,    0,  955,    1,   30],\n",
              "       [   6,    7,   12,   29,   10,   38,    9,   13,  833,   17],\n",
              "       [   9,    6,    2,   10,   22,    7,    0,   21,    5,  927]],\n",
              "      dtype=int32)>"
            ]
          },
          "metadata": {},
          "execution_count": 19
        }
      ]
    },
    {
      "cell_type": "code",
      "source": [
        "import seaborn as sns\n",
        "plt.figure(figsize=(10,7))\n",
        "sns.heatmap(confusion, annot=True, fmt='d')\n",
        "plt.xlabel('Predicted')\n",
        "plt.ylabel('True')"
      ],
      "metadata": {
        "colab": {
          "base_uri": "https://localhost:8080/",
          "height": 636
        },
        "id": "bgLuDvQcvkjt",
        "outputId": "0407a649-fc3d-4f2e-ab4c-7e7f28eaf6be"
      },
      "execution_count": 21,
      "outputs": [
        {
          "output_type": "execute_result",
          "data": {
            "text/plain": [
              "Text(95.72222222222221, 0.5, 'True')"
            ]
          },
          "metadata": {},
          "execution_count": 21
        },
        {
          "output_type": "display_data",
          "data": {
            "text/plain": [
              "<Figure size 1000x700 with 2 Axes>"
            ],
            "image/png": "[encoded data removed]"
          },
          "metadata": {}
        }
      ]
    },
    {
      "cell_type": "code",
      "source": [
        "test_loss, test_acc=model.evaluate(x_test,y_test)\n",
        "print('Accuracy: ', test_acc)\n"
      ],
      "metadata": {
        "colab": {
          "base_uri": "https://localhost:8080/"
        },
        "id": "FGp1lePzt1Tn",
        "outputId": "b794bc68-d3cb-41d2-c236-f5790df8dacc"
      },
      "execution_count": 12,
      "outputs": [
        {
          "output_type": "stream",
          "name": "stdout",
          "text": [
            "313/313 [==============================] - 0s 2ms/step - loss: 0.2681 - accuracy: 0.9247\n",
            "Accuracy:  0.9247000217437744\n"
          ]
        }
      ]
    }
  ]
}